{
 "cells": [
  {
   "cell_type": "markdown",
   "metadata": {},
   "source": [
    "### Buriness Problems"
   ]
  },
  {
   "cell_type": "markdown",
   "metadata": {},
   "source": [
    "The marketing team of a large company named XYZ is exploring ways to improve their sales and\n",
    "\n",
    "market share. Hence, the management has contracted an Analytics firm to understand what factors\n",
    "\n",
    "they should focus on."
   ]
  },
  {
   "cell_type": "markdown",
   "metadata": {},
   "source": [
    "### Importing Libraries"
   ]
  },
  {
   "cell_type": "code",
   "execution_count": 1,
   "metadata": {},
   "outputs": [],
   "source": [
    "import numpy as np\n",
    "import pandas as pd\n",
    "import seaborn as sns\n",
    "import matplotlib.pyplot as plt\n",
    "\n",
    "sns.set()"
   ]
  },
  {
   "cell_type": "markdown",
   "metadata": {},
   "source": [
    "### Importing DataSets"
   ]
  },
  {
   "cell_type": "code",
   "execution_count": 2,
   "metadata": {},
   "outputs": [],
   "source": [
    "dataframe = pd.read_csv(\"https://raw.githubusercontent.com/saifghostrider454/AdvertisementCaseStudy/main/EDA/Dataset.csv\")"
   ]
  },
  {
   "cell_type": "markdown",
   "metadata": {},
   "source": [
    "### First Look of DataFrame"
   ]
  },
  {
   "cell_type": "code",
   "execution_count": 3,
   "metadata": {},
   "outputs": [
    {
     "data": {
      "text/html": [
       "<div>\n",
       "<style scoped>\n",
       "    .dataframe tbody tr th:only-of-type {\n",
       "        vertical-align: middle;\n",
       "    }\n",
       "\n",
       "    .dataframe tbody tr th {\n",
       "        vertical-align: top;\n",
       "    }\n",
       "\n",
       "    .dataframe thead th {\n",
       "        text-align: right;\n",
       "    }\n",
       "</style>\n",
       "<table border=\"1\" class=\"dataframe\">\n",
       "  <thead>\n",
       "    <tr style=\"text-align: right;\">\n",
       "      <th></th>\n",
       "      <th>Category</th>\n",
       "      <th>City</th>\n",
       "      <th>Country</th>\n",
       "      <th>Customer ID</th>\n",
       "      <th>Customer Name</th>\n",
       "      <th>Market</th>\n",
       "      <th>Order Date</th>\n",
       "      <th>Order ID</th>\n",
       "      <th>Order Priority</th>\n",
       "      <th>Product ID</th>\n",
       "      <th>...</th>\n",
       "      <th>Ship Date</th>\n",
       "      <th>Ship Mode</th>\n",
       "      <th>State</th>\n",
       "      <th>Sub-Category</th>\n",
       "      <th>Discount</th>\n",
       "      <th>Number of Records</th>\n",
       "      <th>Profit</th>\n",
       "      <th>Quantity</th>\n",
       "      <th>Sales</th>\n",
       "      <th>Shipping Cost</th>\n",
       "    </tr>\n",
       "  </thead>\n",
       "  <tbody>\n",
       "    <tr>\n",
       "      <th>22462</th>\n",
       "      <td>Office Supplies</td>\n",
       "      <td>Colombo</td>\n",
       "      <td>Brazil</td>\n",
       "      <td>AH-102103</td>\n",
       "      <td>Alan Hwang</td>\n",
       "      <td>LATAM</td>\n",
       "      <td>16-04-2013</td>\n",
       "      <td>MX-2013-158106</td>\n",
       "      <td>High</td>\n",
       "      <td>OFF-BI-10000490</td>\n",
       "      <td>...</td>\n",
       "      <td>19-04-2013</td>\n",
       "      <td>First Class</td>\n",
       "      <td>Parana</td>\n",
       "      <td>Binders</td>\n",
       "      <td>0.0</td>\n",
       "      <td>1</td>\n",
       "      <td>16.920</td>\n",
       "      <td>9</td>\n",
       "      <td>85</td>\n",
       "      <td>9.842</td>\n",
       "    </tr>\n",
       "    <tr>\n",
       "      <th>13986</th>\n",
       "      <td>Office Supplies</td>\n",
       "      <td>Pontivy</td>\n",
       "      <td>France</td>\n",
       "      <td>CW-119052</td>\n",
       "      <td>Carl Weiss</td>\n",
       "      <td>EU</td>\n",
       "      <td>02-08-2012</td>\n",
       "      <td>ES-2012-4913400</td>\n",
       "      <td>Medium</td>\n",
       "      <td>OFF-ST-10000288</td>\n",
       "      <td>...</td>\n",
       "      <td>07-08-2012</td>\n",
       "      <td>Standard Class</td>\n",
       "      <td>Brittany</td>\n",
       "      <td>Storage</td>\n",
       "      <td>0.1</td>\n",
       "      <td>1</td>\n",
       "      <td>211.887</td>\n",
       "      <td>3</td>\n",
       "      <td>561</td>\n",
       "      <td>26.910</td>\n",
       "    </tr>\n",
       "    <tr>\n",
       "      <th>2488</th>\n",
       "      <td>Office Supplies</td>\n",
       "      <td>Townsville</td>\n",
       "      <td>Australia</td>\n",
       "      <td>EB-139301</td>\n",
       "      <td>Eric Barreto</td>\n",
       "      <td>APAC</td>\n",
       "      <td>01-06-2011</td>\n",
       "      <td>IN-2011-80272</td>\n",
       "      <td>Critical</td>\n",
       "      <td>OFF-ST-10004972</td>\n",
       "      <td>...</td>\n",
       "      <td>04-06-2011</td>\n",
       "      <td>First Class</td>\n",
       "      <td>Queensland</td>\n",
       "      <td>Storage</td>\n",
       "      <td>0.4</td>\n",
       "      <td>1</td>\n",
       "      <td>6.744</td>\n",
       "      <td>2</td>\n",
       "      <td>58</td>\n",
       "      <td>10.370</td>\n",
       "    </tr>\n",
       "    <tr>\n",
       "      <th>43776</th>\n",
       "      <td>Office Supplies</td>\n",
       "      <td>Trento</td>\n",
       "      <td>Italy</td>\n",
       "      <td>ME-173202</td>\n",
       "      <td>Maria Etezadi</td>\n",
       "      <td>EU</td>\n",
       "      <td>06-09-2014</td>\n",
       "      <td>ES-2014-1854100</td>\n",
       "      <td>High</td>\n",
       "      <td>OFF-PA-10003920</td>\n",
       "      <td>...</td>\n",
       "      <td>06-09-2014</td>\n",
       "      <td>Same Day</td>\n",
       "      <td>Trentino-Alto Adige</td>\n",
       "      <td>Paper</td>\n",
       "      <td>0.0</td>\n",
       "      <td>1</td>\n",
       "      <td>12.690</td>\n",
       "      <td>3</td>\n",
       "      <td>40</td>\n",
       "      <td>6.640</td>\n",
       "    </tr>\n",
       "    <tr>\n",
       "      <th>12803</th>\n",
       "      <td>Technology</td>\n",
       "      <td>Buenos Aires</td>\n",
       "      <td>Argentina</td>\n",
       "      <td>GA-145153</td>\n",
       "      <td>George Ashbrook</td>\n",
       "      <td>LATAM</td>\n",
       "      <td>19-06-2012</td>\n",
       "      <td>US-2012-112025</td>\n",
       "      <td>High</td>\n",
       "      <td>TEC-AC-10002370</td>\n",
       "      <td>...</td>\n",
       "      <td>22-06-2012</td>\n",
       "      <td>First Class</td>\n",
       "      <td>Buenos Aires</td>\n",
       "      <td>Accessories</td>\n",
       "      <td>0.4</td>\n",
       "      <td>1</td>\n",
       "      <td>-11.920</td>\n",
       "      <td>5</td>\n",
       "      <td>79</td>\n",
       "      <td>13.224</td>\n",
       "    </tr>\n",
       "  </tbody>\n",
       "</table>\n",
       "<p>5 rows × 24 columns</p>\n",
       "</div>"
      ],
      "text/plain": [
       "              Category          City    Country Customer ID    Customer Name  \\\n",
       "22462  Office Supplies       Colombo     Brazil   AH-102103       Alan Hwang   \n",
       "13986  Office Supplies       Pontivy     France   CW-119052       Carl Weiss   \n",
       "2488   Office Supplies    Townsville  Australia   EB-139301     Eric Barreto   \n",
       "43776  Office Supplies        Trento      Italy   ME-173202    Maria Etezadi   \n",
       "12803       Technology  Buenos Aires  Argentina   GA-145153  George Ashbrook   \n",
       "\n",
       "      Market  Order Date         Order ID Order Priority       Product ID  \\\n",
       "22462  LATAM  16-04-2013   MX-2013-158106           High  OFF-BI-10000490   \n",
       "13986     EU  02-08-2012  ES-2012-4913400         Medium  OFF-ST-10000288   \n",
       "2488    APAC  01-06-2011    IN-2011-80272       Critical  OFF-ST-10004972   \n",
       "43776     EU  06-09-2014  ES-2014-1854100           High  OFF-PA-10003920   \n",
       "12803  LATAM  19-06-2012   US-2012-112025           High  TEC-AC-10002370   \n",
       "\n",
       "       ...   Ship Date       Ship Mode                State Sub-Category  \\\n",
       "22462  ...  19-04-2013     First Class               Parana      Binders   \n",
       "13986  ...  07-08-2012  Standard Class             Brittany      Storage   \n",
       "2488   ...  04-06-2011     First Class           Queensland      Storage   \n",
       "43776  ...  06-09-2014        Same Day  Trentino-Alto Adige        Paper   \n",
       "12803  ...  22-06-2012     First Class         Buenos Aires  Accessories   \n",
       "\n",
       "      Discount Number of Records   Profit Quantity  Sales  Shipping Cost  \n",
       "22462      0.0                 1   16.920        9     85          9.842  \n",
       "13986      0.1                 1  211.887        3    561         26.910  \n",
       "2488       0.4                 1    6.744        2     58         10.370  \n",
       "43776      0.0                 1   12.690        3     40          6.640  \n",
       "12803      0.4                 1  -11.920        5     79         13.224  \n",
       "\n",
       "[5 rows x 24 columns]"
      ]
     },
     "execution_count": 3,
     "metadata": {},
     "output_type": "execute_result"
    }
   ],
   "source": [
    "dataframe.sample(5)"
   ]
  },
  {
   "cell_type": "code",
   "execution_count": 16,
   "metadata": {},
   "outputs": [
    {
     "data": {
      "text/plain": [
       "Category                         Office Supplies\n",
       "City                                   Stockholm\n",
       "Country                                   Sweden\n",
       "Customer ID                            EM-141402\n",
       "Customer Name                       Eugene Moren\n",
       "Market                                        EU\n",
       "Order Date                            01-01-2011\n",
       "Order ID                         IT-2011-3647632\n",
       "Order Priority                              High\n",
       "Product ID                       OFF-PA-10001492\n",
       "Product Name         Enermax Note Cards, Premium\n",
       "Region                                     North\n",
       "Row ID                                     11731\n",
       "Segment                              Home Office\n",
       "Ship Date                             05-01-2011\n",
       "Ship Mode                           Second Class\n",
       "State                                  Stockholm\n",
       "Sub-Category                               Paper\n",
       "Discount                                     0.5\n",
       "Number of Records                              1\n",
       "Profit                                   -26.055\n",
       "Quantity                                       3\n",
       "Sales                                         45\n",
       "Shipping Cost                               4.82\n",
       "Name: 1, dtype: object"
      ]
     },
     "execution_count": 16,
     "metadata": {},
     "output_type": "execute_result"
    }
   ],
   "source": [
    "dataframe.iloc[1, :]"
   ]
  },
  {
   "cell_type": "markdown",
   "metadata": {},
   "source": [
    "#### Shape"
   ]
  },
  {
   "cell_type": "code",
   "execution_count": 4,
   "metadata": {},
   "outputs": [
    {
     "name": "stdout",
     "output_type": "stream",
     "text": [
      "There are 51290 Rows and 24 Columns\n"
     ]
    }
   ],
   "source": [
    "print(f\"There are {dataframe.shape[0]} Rows and {dataframe.shape[1]} Columns\")"
   ]
  },
  {
   "cell_type": "markdown",
   "metadata": {},
   "source": [
    "#### DataFrame Info"
   ]
  },
  {
   "cell_type": "code",
   "execution_count": 12,
   "metadata": {},
   "outputs": [
    {
     "name": "stdout",
     "output_type": "stream",
     "text": [
      "<class 'pandas.core.frame.DataFrame'>\n",
      "RangeIndex: 51290 entries, 0 to 51289\n",
      "Data columns (total 24 columns):\n",
      " #   Column             Non-Null Count  Dtype  \n",
      "---  ------             --------------  -----  \n",
      " 0   Category           51290 non-null  object \n",
      " 1   City               51290 non-null  object \n",
      " 2   Country            51290 non-null  object \n",
      " 3   Customer ID        51290 non-null  object \n",
      " 4   Customer Name      51290 non-null  object \n",
      " 5   Market             51290 non-null  object \n",
      " 6   Order Date         51290 non-null  object \n",
      " 7   Order ID           51290 non-null  object \n",
      " 8   Order Priority     51290 non-null  object \n",
      " 9   Product ID         51290 non-null  object \n",
      " 10  Product Name       51290 non-null  object \n",
      " 11  Region             51290 non-null  object \n",
      " 12  Row ID             51290 non-null  int64  \n",
      " 13  Segment            51290 non-null  object \n",
      " 14  Ship Date          51290 non-null  object \n",
      " 15  Ship Mode          51290 non-null  object \n",
      " 16  State              51290 non-null  object \n",
      " 17  Sub-Category       51290 non-null  object \n",
      " 18  Discount           51290 non-null  float64\n",
      " 19  Number of Records  51290 non-null  int64  \n",
      " 20  Profit             51290 non-null  float64\n",
      " 21  Quantity           51290 non-null  int64  \n",
      " 22  Sales              51290 non-null  object \n",
      " 23  Shipping Cost      51290 non-null  float64\n",
      "dtypes: float64(3), int64(3), object(18)\n",
      "memory usage: 9.4+ MB\n"
     ]
    }
   ],
   "source": [
    "dataframe.info()"
   ]
  },
  {
   "cell_type": "code",
   "execution_count": 9,
   "metadata": {},
   "outputs": [
    {
     "name": "stdout",
     "output_type": "stream",
     "text": [
      "These Columns are available ['Category', 'City', 'Country', 'Customer ID', 'Customer Name', 'Market', 'Order Date', 'Order ID', 'Order Priority', 'Product ID', 'Product Name', 'Region', 'Row ID', 'Segment', 'Ship Date', 'Ship Mode', 'State', 'Sub-Category', 'Discount', 'Number of Records', 'Profit', 'Quantity', 'Sales', 'Shipping Cost'] in this dataframe\n"
     ]
    }
   ],
   "source": [
    "print(f\"These Columns are available {list(dataframe.columns)} in this dataframe\")"
   ]
  },
  {
   "cell_type": "markdown",
   "metadata": {},
   "source": [
    "#### Dataframe Description"
   ]
  },
  {
   "cell_type": "code",
   "execution_count": 13,
   "metadata": {},
   "outputs": [
    {
     "data": {
      "text/html": [
       "<div>\n",
       "<style scoped>\n",
       "    .dataframe tbody tr th:only-of-type {\n",
       "        vertical-align: middle;\n",
       "    }\n",
       "\n",
       "    .dataframe tbody tr th {\n",
       "        vertical-align: top;\n",
       "    }\n",
       "\n",
       "    .dataframe thead th {\n",
       "        text-align: right;\n",
       "    }\n",
       "</style>\n",
       "<table border=\"1\" class=\"dataframe\">\n",
       "  <thead>\n",
       "    <tr style=\"text-align: right;\">\n",
       "      <th></th>\n",
       "      <th>Row ID</th>\n",
       "      <th>Discount</th>\n",
       "      <th>Number of Records</th>\n",
       "      <th>Profit</th>\n",
       "      <th>Quantity</th>\n",
       "      <th>Shipping Cost</th>\n",
       "    </tr>\n",
       "  </thead>\n",
       "  <tbody>\n",
       "    <tr>\n",
       "      <th>count</th>\n",
       "      <td>51290.00000</td>\n",
       "      <td>51290.000000</td>\n",
       "      <td>51290.0</td>\n",
       "      <td>51290.000000</td>\n",
       "      <td>51290.000000</td>\n",
       "      <td>51290.000000</td>\n",
       "    </tr>\n",
       "    <tr>\n",
       "      <th>mean</th>\n",
       "      <td>25645.50000</td>\n",
       "      <td>0.142908</td>\n",
       "      <td>1.0</td>\n",
       "      <td>28.610982</td>\n",
       "      <td>3.476545</td>\n",
       "      <td>26.375818</td>\n",
       "    </tr>\n",
       "    <tr>\n",
       "      <th>std</th>\n",
       "      <td>14806.29199</td>\n",
       "      <td>0.212280</td>\n",
       "      <td>0.0</td>\n",
       "      <td>174.340972</td>\n",
       "      <td>2.278766</td>\n",
       "      <td>57.296810</td>\n",
       "    </tr>\n",
       "    <tr>\n",
       "      <th>min</th>\n",
       "      <td>1.00000</td>\n",
       "      <td>0.000000</td>\n",
       "      <td>1.0</td>\n",
       "      <td>-6599.978000</td>\n",
       "      <td>1.000000</td>\n",
       "      <td>0.002000</td>\n",
       "    </tr>\n",
       "    <tr>\n",
       "      <th>25%</th>\n",
       "      <td>12823.25000</td>\n",
       "      <td>0.000000</td>\n",
       "      <td>1.0</td>\n",
       "      <td>0.000000</td>\n",
       "      <td>2.000000</td>\n",
       "      <td>2.610000</td>\n",
       "    </tr>\n",
       "    <tr>\n",
       "      <th>50%</th>\n",
       "      <td>25645.50000</td>\n",
       "      <td>0.000000</td>\n",
       "      <td>1.0</td>\n",
       "      <td>9.240000</td>\n",
       "      <td>3.000000</td>\n",
       "      <td>7.790000</td>\n",
       "    </tr>\n",
       "    <tr>\n",
       "      <th>75%</th>\n",
       "      <td>38467.75000</td>\n",
       "      <td>0.200000</td>\n",
       "      <td>1.0</td>\n",
       "      <td>36.810000</td>\n",
       "      <td>5.000000</td>\n",
       "      <td>24.450000</td>\n",
       "    </tr>\n",
       "    <tr>\n",
       "      <th>max</th>\n",
       "      <td>51290.00000</td>\n",
       "      <td>0.850000</td>\n",
       "      <td>1.0</td>\n",
       "      <td>8399.976000</td>\n",
       "      <td>14.000000</td>\n",
       "      <td>933.570000</td>\n",
       "    </tr>\n",
       "  </tbody>\n",
       "</table>\n",
       "</div>"
      ],
      "text/plain": [
       "            Row ID      Discount  Number of Records        Profit  \\\n",
       "count  51290.00000  51290.000000            51290.0  51290.000000   \n",
       "mean   25645.50000      0.142908                1.0     28.610982   \n",
       "std    14806.29199      0.212280                0.0    174.340972   \n",
       "min        1.00000      0.000000                1.0  -6599.978000   \n",
       "25%    12823.25000      0.000000                1.0      0.000000   \n",
       "50%    25645.50000      0.000000                1.0      9.240000   \n",
       "75%    38467.75000      0.200000                1.0     36.810000   \n",
       "max    51290.00000      0.850000                1.0   8399.976000   \n",
       "\n",
       "           Quantity  Shipping Cost  \n",
       "count  51290.000000   51290.000000  \n",
       "mean       3.476545      26.375818  \n",
       "std        2.278766      57.296810  \n",
       "min        1.000000       0.002000  \n",
       "25%        2.000000       2.610000  \n",
       "50%        3.000000       7.790000  \n",
       "75%        5.000000      24.450000  \n",
       "max       14.000000     933.570000  "
      ]
     },
     "execution_count": 13,
     "metadata": {},
     "output_type": "execute_result"
    }
   ],
   "source": [
    "dataframe.describe()"
   ]
  },
  {
   "cell_type": "markdown",
   "metadata": {},
   "source": [
    "#### Null values"
   ]
  },
  {
   "cell_type": "code",
   "execution_count": 14,
   "metadata": {},
   "outputs": [
    {
     "data": {
      "text/plain": [
       "Category             0\n",
       "City                 0\n",
       "Country              0\n",
       "Customer ID          0\n",
       "Customer Name        0\n",
       "Market               0\n",
       "Order Date           0\n",
       "Order ID             0\n",
       "Order Priority       0\n",
       "Product ID           0\n",
       "Product Name         0\n",
       "Region               0\n",
       "Row ID               0\n",
       "Segment              0\n",
       "Ship Date            0\n",
       "Ship Mode            0\n",
       "State                0\n",
       "Sub-Category         0\n",
       "Discount             0\n",
       "Number of Records    0\n",
       "Profit               0\n",
       "Quantity             0\n",
       "Sales                0\n",
       "Shipping Cost        0\n",
       "dtype: int64"
      ]
     },
     "execution_count": 14,
     "metadata": {},
     "output_type": "execute_result"
    }
   ],
   "source": [
    "dataframe.isnull().sum()"
   ]
  },
  {
   "cell_type": "markdown",
   "metadata": {},
   "source": [
    "There is 0 Null values"
   ]
  },
  {
   "cell_type": "markdown",
   "metadata": {},
   "source": [
    "#### Number of unique values"
   ]
  },
  {
   "cell_type": "code",
   "execution_count": 17,
   "metadata": {},
   "outputs": [
    {
     "data": {
      "text/plain": [
       "Category                 3\n",
       "City                  3636\n",
       "Country                147\n",
       "Customer ID           4873\n",
       "Customer Name          795\n",
       "Market                   7\n",
       "Order Date            1430\n",
       "Order ID             25035\n",
       "Order Priority           4\n",
       "Product ID           10292\n",
       "Product Name          3788\n",
       "Region                  13\n",
       "Row ID               51290\n",
       "Segment                  3\n",
       "Ship Date             1464\n",
       "Ship Mode                4\n",
       "State                 1094\n",
       "Sub-Category            17\n",
       "Discount                27\n",
       "Number of Records        1\n",
       "Profit               24575\n",
       "Quantity                14\n",
       "Sales                 2246\n",
       "Shipping Cost        16877\n",
       "dtype: int64"
      ]
     },
     "execution_count": 17,
     "metadata": {},
     "output_type": "execute_result"
    }
   ],
   "source": [
    "dataframe.nunique()"
   ]
  },
  {
   "cell_type": "markdown",
   "metadata": {},
   "source": [
    "### Data Wrangling"
   ]
  },
  {
   "cell_type": "markdown",
   "metadata": {},
   "source": [
    "Shipping Date"
   ]
  },
  {
   "cell_type": "code",
   "execution_count": 20,
   "metadata": {},
   "outputs": [],
   "source": [
    "dataframe['Ship Date'] = pd.to_datetime(dataframe['Ship Date'], format=\"%d-%m-%Y\")"
   ]
  },
  {
   "cell_type": "code",
   "execution_count": 28,
   "metadata": {},
   "outputs": [],
   "source": [
    "df = dataframe.copy()"
   ]
  },
  {
   "cell_type": "markdown",
   "metadata": {},
   "source": [
    "                                    First Problem:                                  \n",
    "                                    \n",
    "\n",
    "The Marketing Teamhas launched a campaign recently and they want to understand how well their\n",
    "\n",
    "campaigns are able to attract new customers.\n",
    "\n",
    "\n",
    "Show the New Customer Acquisition on a trend line. During which period did new customers grow\n",
    "\n",
    "the most. During which period did it flatten?\n"
   ]
  },
  {
   "cell_type": "code",
   "execution_count": 23,
   "metadata": {},
   "outputs": [
    {
     "data": {
      "text/plain": [
       "array(['AT-7352', 'EM-141402', 'TB-112801', ..., 'DJ-34202', 'GH-46652',\n",
       "       'LP-70951'], dtype=object)"
      ]
     },
     "execution_count": 23,
     "metadata": {},
     "output_type": "execute_result"
    }
   ],
   "source": [
    "dataframe['Customer ID'].unique()"
   ]
  },
  {
   "cell_type": "code",
   "execution_count": 33,
   "metadata": {},
   "outputs": [
    {
     "data": {
      "text/plain": [
       "<Figure size 2000x700 with 0 Axes>"
      ]
     },
     "metadata": {},
     "output_type": "display_data"
    },
    {
     "data": {
      "image/png": "[encoded data removed]",
      "text/plain": [
       "<Figure size 1000x600 with 1 Axes>"
      ]
     },
     "metadata": {},
     "output_type": "display_data"
    }
   ],
   "source": [
    "plt.figure(figsize=[20, 7])\n",
    "\n",
    "df['Order Date'] = pd.to_datetime(df['Order Date'], format='%d-%m-%Y')\n",
    "\n",
    "# Create a new column for the month and year as strings\n",
    "df['Month_Year'] = df['Order Date'].dt.to_period('M').astype(str)\n",
    "\n",
    "# Group by 'Month_Year' and count unique 'Customer ID' to get new customers each month\n",
    "new_customers_per_month = df.groupby('Month_Year')['Customer ID'].nunique()\n",
    "\n",
    "# Plotting the trend line\n",
    "plt.figure(figsize=(10, 6))\n",
    "plt.plot(new_customers_per_month.index, new_customers_per_month.values, marker='o', linestyle='-')\n",
    "plt.title('New Customer Acquisition Trend Over Time')\n",
    "plt.xlabel('Month_Year')\n",
    "plt.ylabel('Number of New Customers')\n",
    "plt.grid(True)\n",
    "plt.xticks(rotation=90)  # Rotate x-axis labels for better visibility\n",
    "\n",
    "plt.savefig(\"New Customer Acquisition Trend Over Time.jpg\")\n",
    "plt.show()"
   ]
  },
  {
   "cell_type": "markdown",
   "metadata": {},
   "source": [
    "In This Analysis as you can see a Pattern that shows New Customers Mostly come during November and December and flatten during January and February"
   ]
  },
  {
   "cell_type": "code",
   "execution_count": null,
   "metadata": {},
   "outputs": [],
   "source": []
  }
 ],
 "metadata": {
  "kernelspec": {
   "display_name": "Python 3",
   "language": "python",
   "name": "python3"
  },
  "language_info": {
   "codemirror_mode": {
    "name": "ipython",
    "version": 3
   },
   "file_extension": ".py",
   "mimetype": "text/x-python",
   "name": "python",
   "nbconvert_exporter": "python",
   "pygments_lexer": "ipython3",
   "version": "3.11.0"
  }
 },
 "nbformat": 4,
 "nbformat_minor": 2
}
