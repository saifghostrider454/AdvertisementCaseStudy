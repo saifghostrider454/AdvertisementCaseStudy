{
 "cells": [
  {
   "cell_type": "markdown",
   "metadata": {},
   "source": [
    "### Buriness Problems"
   ]
  },
  {
   "cell_type": "markdown",
   "metadata": {},
   "source": [
    "The marketing team of a large company named XYZ is exploring ways to improve their sales and\n",
    "\n",
    "market share. Hence, the management has contracted an Analytics firm to understand what factors\n",
    "\n",
    "they should focus on."
   ]
  },
  {
   "cell_type": "markdown",
   "metadata": {},
   "source": [
    "### Importing Libraries"
   ]
  },
  {
   "cell_type": "code",
   "execution_count": 1,
   "metadata": {},
   "outputs": [],
   "source": [
    "import numpy as np\n",
    "import pandas as pd\n",
    "import seaborn as sns\n",
    "import matplotlib.pyplot as plt\n",
    "import warnings\n",
    "\n",
    "warnings.filterwarnings('ignore')\n",
    "sns.set()"
   ]
  },
  {
   "cell_type": "markdown",
   "metadata": {},
   "source": [
    "### Importing DataSets"
   ]
  },
  {
   "cell_type": "code",
   "execution_count": 2,
   "metadata": {},
   "outputs": [],
   "source": [
    "dataframe = pd.read_csv(\"https://raw.githubusercontent.com/saifghostrider454/AdvertisementCaseStudy/main/EDA/Dataset.csv\")"
   ]
  },
  {
   "cell_type": "markdown",
   "metadata": {},
   "source": [
    "### First Look of DataFrame"
   ]
  },
  {
   "cell_type": "code",
   "execution_count": 3,
   "metadata": {},
   "outputs": [
    {
     "data": {
      "text/html": [
       "<div>\n",
       "<style scoped>\n",
       "    .dataframe tbody tr th:only-of-type {\n",
       "        vertical-align: middle;\n",
       "    }\n",
       "\n",
       "    .dataframe tbody tr th {\n",
       "        vertical-align: top;\n",
       "    }\n",
       "\n",
       "    .dataframe thead th {\n",
       "        text-align: right;\n",
       "    }\n",
       "</style>\n",
       "<table border=\"1\" class=\"dataframe\">\n",
       "  <thead>\n",
       "    <tr style=\"text-align: right;\">\n",
       "      <th></th>\n",
       "      <th>Category</th>\n",
       "      <th>City</th>\n",
       "      <th>Country</th>\n",
       "      <th>Customer ID</th>\n",
       "      <th>Customer Name</th>\n",
       "      <th>Market</th>\n",
       "      <th>Order Date</th>\n",
       "      <th>Order ID</th>\n",
       "      <th>Order Priority</th>\n",
       "      <th>Product ID</th>\n",
       "      <th>...</th>\n",
       "      <th>Ship Date</th>\n",
       "      <th>Ship Mode</th>\n",
       "      <th>State</th>\n",
       "      <th>Sub-Category</th>\n",
       "      <th>Discount</th>\n",
       "      <th>Number of Records</th>\n",
       "      <th>Profit</th>\n",
       "      <th>Quantity</th>\n",
       "      <th>Sales</th>\n",
       "      <th>Shipping Cost</th>\n",
       "    </tr>\n",
       "  </thead>\n",
       "  <tbody>\n",
       "    <tr>\n",
       "      <th>39943</th>\n",
       "      <td>Technology</td>\n",
       "      <td>Chesterfield</td>\n",
       "      <td>United Kingdom</td>\n",
       "      <td>BF-111702</td>\n",
       "      <td>Ben Ferrer</td>\n",
       "      <td>EU</td>\n",
       "      <td>19-06-2014</td>\n",
       "      <td>ES-2014-1274177</td>\n",
       "      <td>Medium</td>\n",
       "      <td>TEC-PH-10003927</td>\n",
       "      <td>...</td>\n",
       "      <td>23-06-2014</td>\n",
       "      <td>Standard Class</td>\n",
       "      <td>England</td>\n",
       "      <td>Phones</td>\n",
       "      <td>0.0</td>\n",
       "      <td>1</td>\n",
       "      <td>13.77</td>\n",
       "      <td>3</td>\n",
       "      <td>459</td>\n",
       "      <td>27.710</td>\n",
       "    </tr>\n",
       "    <tr>\n",
       "      <th>33457</th>\n",
       "      <td>Office Supplies</td>\n",
       "      <td>Mejicanos</td>\n",
       "      <td>El Salvador</td>\n",
       "      <td>EG-139003</td>\n",
       "      <td>Emily Grady</td>\n",
       "      <td>LATAM</td>\n",
       "      <td>25-12-2013</td>\n",
       "      <td>MX-2013-136959</td>\n",
       "      <td>Medium</td>\n",
       "      <td>OFF-FA-10002163</td>\n",
       "      <td>...</td>\n",
       "      <td>31-12-2013</td>\n",
       "      <td>Standard Class</td>\n",
       "      <td>San Salvador</td>\n",
       "      <td>Fasteners</td>\n",
       "      <td>0.0</td>\n",
       "      <td>1</td>\n",
       "      <td>4.14</td>\n",
       "      <td>3</td>\n",
       "      <td>28</td>\n",
       "      <td>2.065</td>\n",
       "    </tr>\n",
       "    <tr>\n",
       "      <th>6212</th>\n",
       "      <td>Technology</td>\n",
       "      <td>Seoul</td>\n",
       "      <td>South Korea</td>\n",
       "      <td>TP-211301</td>\n",
       "      <td>Theone Pippenger</td>\n",
       "      <td>APAC</td>\n",
       "      <td>15-10-2011</td>\n",
       "      <td>ID-2011-65124</td>\n",
       "      <td>Medium</td>\n",
       "      <td>TEC-PH-10003794</td>\n",
       "      <td>...</td>\n",
       "      <td>18-10-2011</td>\n",
       "      <td>First Class</td>\n",
       "      <td>Seoul</td>\n",
       "      <td>Phones</td>\n",
       "      <td>0.5</td>\n",
       "      <td>1</td>\n",
       "      <td>-471.69</td>\n",
       "      <td>2</td>\n",
       "      <td>637</td>\n",
       "      <td>52.810</td>\n",
       "    </tr>\n",
       "    <tr>\n",
       "      <th>13879</th>\n",
       "      <td>Technology</td>\n",
       "      <td>Rawalpindi</td>\n",
       "      <td>Pakistan</td>\n",
       "      <td>EH-141851</td>\n",
       "      <td>Evan Henry</td>\n",
       "      <td>APAC</td>\n",
       "      <td>30-07-2012</td>\n",
       "      <td>ID-2012-26778</td>\n",
       "      <td>Medium</td>\n",
       "      <td>TEC-CO-10003522</td>\n",
       "      <td>...</td>\n",
       "      <td>03-08-2012</td>\n",
       "      <td>Standard Class</td>\n",
       "      <td>Punjab</td>\n",
       "      <td>Copiers</td>\n",
       "      <td>0.5</td>\n",
       "      <td>1</td>\n",
       "      <td>-115.86</td>\n",
       "      <td>2</td>\n",
       "      <td>118</td>\n",
       "      <td>11.200</td>\n",
       "    </tr>\n",
       "    <tr>\n",
       "      <th>26650</th>\n",
       "      <td>Office Supplies</td>\n",
       "      <td>Brest</td>\n",
       "      <td>Belarus</td>\n",
       "      <td>KH-63602</td>\n",
       "      <td>Katherine Hughes</td>\n",
       "      <td>EMEA</td>\n",
       "      <td>08-08-2013</td>\n",
       "      <td>BO-2013-1280</td>\n",
       "      <td>High</td>\n",
       "      <td>OFF-KLE-10000228</td>\n",
       "      <td>...</td>\n",
       "      <td>12-08-2013</td>\n",
       "      <td>Standard Class</td>\n",
       "      <td>Brest</td>\n",
       "      <td>Supplies</td>\n",
       "      <td>0.0</td>\n",
       "      <td>1</td>\n",
       "      <td>20.10</td>\n",
       "      <td>1</td>\n",
       "      <td>47</td>\n",
       "      <td>4.540</td>\n",
       "    </tr>\n",
       "  </tbody>\n",
       "</table>\n",
       "<p>5 rows × 24 columns</p>\n",
       "</div>"
      ],
      "text/plain": [
       "              Category          City         Country Customer ID  \\\n",
       "39943       Technology  Chesterfield  United Kingdom   BF-111702   \n",
       "33457  Office Supplies     Mejicanos     El Salvador   EG-139003   \n",
       "6212        Technology         Seoul     South Korea   TP-211301   \n",
       "13879       Technology    Rawalpindi        Pakistan   EH-141851   \n",
       "26650  Office Supplies         Brest         Belarus    KH-63602   \n",
       "\n",
       "          Customer Name Market  Order Date         Order ID Order Priority  \\\n",
       "39943        Ben Ferrer     EU  19-06-2014  ES-2014-1274177         Medium   \n",
       "33457       Emily Grady  LATAM  25-12-2013   MX-2013-136959         Medium   \n",
       "6212   Theone Pippenger   APAC  15-10-2011    ID-2011-65124         Medium   \n",
       "13879        Evan Henry   APAC  30-07-2012    ID-2012-26778         Medium   \n",
       "26650  Katherine Hughes   EMEA  08-08-2013     BO-2013-1280           High   \n",
       "\n",
       "             Product ID  ...   Ship Date       Ship Mode         State  \\\n",
       "39943   TEC-PH-10003927  ...  23-06-2014  Standard Class       England   \n",
       "33457   OFF-FA-10002163  ...  31-12-2013  Standard Class  San Salvador   \n",
       "6212    TEC-PH-10003794  ...  18-10-2011     First Class         Seoul   \n",
       "13879   TEC-CO-10003522  ...  03-08-2012  Standard Class        Punjab   \n",
       "26650  OFF-KLE-10000228  ...  12-08-2013  Standard Class         Brest   \n",
       "\n",
       "      Sub-Category Discount Number of Records  Profit Quantity  Sales  \\\n",
       "39943       Phones      0.0                 1   13.77        3    459   \n",
       "33457    Fasteners      0.0                 1    4.14        3     28   \n",
       "6212        Phones      0.5                 1 -471.69        2    637   \n",
       "13879      Copiers      0.5                 1 -115.86        2    118   \n",
       "26650     Supplies      0.0                 1   20.10        1     47   \n",
       "\n",
       "       Shipping Cost  \n",
       "39943         27.710  \n",
       "33457          2.065  \n",
       "6212          52.810  \n",
       "13879         11.200  \n",
       "26650          4.540  \n",
       "\n",
       "[5 rows x 24 columns]"
      ]
     },
     "execution_count": 3,
     "metadata": {},
     "output_type": "execute_result"
    }
   ],
   "source": [
    "dataframe.sample(5)"
   ]
  },
  {
   "cell_type": "code",
   "execution_count": 4,
   "metadata": {},
   "outputs": [
    {
     "data": {
      "text/plain": [
       "Category                         Office Supplies\n",
       "City                                   Stockholm\n",
       "Country                                   Sweden\n",
       "Customer ID                            EM-141402\n",
       "Customer Name                       Eugene Moren\n",
       "Market                                        EU\n",
       "Order Date                            01-01-2011\n",
       "Order ID                         IT-2011-3647632\n",
       "Order Priority                              High\n",
       "Product ID                       OFF-PA-10001492\n",
       "Product Name         Enermax Note Cards, Premium\n",
       "Region                                     North\n",
       "Row ID                                     11731\n",
       "Segment                              Home Office\n",
       "Ship Date                             05-01-2011\n",
       "Ship Mode                           Second Class\n",
       "State                                  Stockholm\n",
       "Sub-Category                               Paper\n",
       "Discount                                     0.5\n",
       "Number of Records                              1\n",
       "Profit                                   -26.055\n",
       "Quantity                                       3\n",
       "Sales                                         45\n",
       "Shipping Cost                               4.82\n",
       "Name: 1, dtype: object"
      ]
     },
     "execution_count": 4,
     "metadata": {},
     "output_type": "execute_result"
    }
   ],
   "source": [
    "dataframe.iloc[1, :]"
   ]
  },
  {
   "cell_type": "markdown",
   "metadata": {},
   "source": [
    "#### Shape"
   ]
  },
  {
   "cell_type": "code",
   "execution_count": 5,
   "metadata": {},
   "outputs": [
    {
     "name": "stdout",
     "output_type": "stream",
     "text": [
      "There are 51290 Rows and 24 Columns\n"
     ]
    }
   ],
   "source": [
    "print(f\"There are {dataframe.shape[0]} Rows and {dataframe.shape[1]} Columns\")"
   ]
  },
  {
   "cell_type": "markdown",
   "metadata": {},
   "source": [
    "#### DataFrame Info"
   ]
  },
  {
   "cell_type": "code",
   "execution_count": 6,
   "metadata": {},
   "outputs": [
    {
     "name": "stdout",
     "output_type": "stream",
     "text": [
      "<class 'pandas.core.frame.DataFrame'>\n",
      "RangeIndex: 51290 entries, 0 to 51289\n",
      "Data columns (total 24 columns):\n",
      " #   Column             Non-Null Count  Dtype  \n",
      "---  ------             --------------  -----  \n",
      " 0   Category           51290 non-null  object \n",
      " 1   City               51290 non-null  object \n",
      " 2   Country            51290 non-null  object \n",
      " 3   Customer ID        51290 non-null  object \n",
      " 4   Customer Name      51290 non-null  object \n",
      " 5   Market             51290 non-null  object \n",
      " 6   Order Date         51290 non-null  object \n",
      " 7   Order ID           51290 non-null  object \n",
      " 8   Order Priority     51290 non-null  object \n",
      " 9   Product ID         51290 non-null  object \n",
      " 10  Product Name       51290 non-null  object \n",
      " 11  Region             51290 non-null  object \n",
      " 12  Row ID             51290 non-null  int64  \n",
      " 13  Segment            51290 non-null  object \n",
      " 14  Ship Date          51290 non-null  object \n",
      " 15  Ship Mode          51290 non-null  object \n",
      " 16  State              51290 non-null  object \n",
      " 17  Sub-Category       51290 non-null  object \n",
      " 18  Discount           51290 non-null  float64\n",
      " 19  Number of Records  51290 non-null  int64  \n",
      " 20  Profit             51290 non-null  float64\n",
      " 21  Quantity           51290 non-null  int64  \n",
      " 22  Sales              51290 non-null  object \n",
      " 23  Shipping Cost      51290 non-null  float64\n",
      "dtypes: float64(3), int64(3), object(18)\n",
      "memory usage: 9.4+ MB\n"
     ]
    }
   ],
   "source": [
    "dataframe.info()"
   ]
  },
  {
   "cell_type": "code",
   "execution_count": 7,
   "metadata": {},
   "outputs": [
    {
     "name": "stdout",
     "output_type": "stream",
     "text": [
      "These Columns are available ['Category', 'City', 'Country', 'Customer ID', 'Customer Name', 'Market', 'Order Date', 'Order ID', 'Order Priority', 'Product ID', 'Product Name', 'Region', 'Row ID', 'Segment', 'Ship Date', 'Ship Mode', 'State', 'Sub-Category', 'Discount', 'Number of Records', 'Profit', 'Quantity', 'Sales', 'Shipping Cost'] in this dataframe\n"
     ]
    }
   ],
   "source": [
    "print(f\"These Columns are available {list(dataframe.columns)} in this dataframe\")"
   ]
  },
  {
   "cell_type": "markdown",
   "metadata": {},
   "source": [
    "#### Dataframe Description"
   ]
  },
  {
   "cell_type": "code",
   "execution_count": 8,
   "metadata": {},
   "outputs": [
    {
     "data": {
      "text/html": [
       "<div>\n",
       "<style scoped>\n",
       "    .dataframe tbody tr th:only-of-type {\n",
       "        vertical-align: middle;\n",
       "    }\n",
       "\n",
       "    .dataframe tbody tr th {\n",
       "        vertical-align: top;\n",
       "    }\n",
       "\n",
       "    .dataframe thead th {\n",
       "        text-align: right;\n",
       "    }\n",
       "</style>\n",
       "<table border=\"1\" class=\"dataframe\">\n",
       "  <thead>\n",
       "    <tr style=\"text-align: right;\">\n",
       "      <th></th>\n",
       "      <th>Row ID</th>\n",
       "      <th>Discount</th>\n",
       "      <th>Number of Records</th>\n",
       "      <th>Profit</th>\n",
       "      <th>Quantity</th>\n",
       "      <th>Shipping Cost</th>\n",
       "    </tr>\n",
       "  </thead>\n",
       "  <tbody>\n",
       "    <tr>\n",
       "      <th>count</th>\n",
       "      <td>51290.00000</td>\n",
       "      <td>51290.000000</td>\n",
       "      <td>51290.0</td>\n",
       "      <td>51290.000000</td>\n",
       "      <td>51290.000000</td>\n",
       "      <td>51290.000000</td>\n",
       "    </tr>\n",
       "    <tr>\n",
       "      <th>mean</th>\n",
       "      <td>25645.50000</td>\n",
       "      <td>0.142908</td>\n",
       "      <td>1.0</td>\n",
       "      <td>28.610982</td>\n",
       "      <td>3.476545</td>\n",
       "      <td>26.375818</td>\n",
       "    </tr>\n",
       "    <tr>\n",
       "      <th>std</th>\n",
       "      <td>14806.29199</td>\n",
       "      <td>0.212280</td>\n",
       "      <td>0.0</td>\n",
       "      <td>174.340972</td>\n",
       "      <td>2.278766</td>\n",
       "      <td>57.296810</td>\n",
       "    </tr>\n",
       "    <tr>\n",
       "      <th>min</th>\n",
       "      <td>1.00000</td>\n",
       "      <td>0.000000</td>\n",
       "      <td>1.0</td>\n",
       "      <td>-6599.978000</td>\n",
       "      <td>1.000000</td>\n",
       "      <td>0.002000</td>\n",
       "    </tr>\n",
       "    <tr>\n",
       "      <th>25%</th>\n",
       "      <td>12823.25000</td>\n",
       "      <td>0.000000</td>\n",
       "      <td>1.0</td>\n",
       "      <td>0.000000</td>\n",
       "      <td>2.000000</td>\n",
       "      <td>2.610000</td>\n",
       "    </tr>\n",
       "    <tr>\n",
       "      <th>50%</th>\n",
       "      <td>25645.50000</td>\n",
       "      <td>0.000000</td>\n",
       "      <td>1.0</td>\n",
       "      <td>9.240000</td>\n",
       "      <td>3.000000</td>\n",
       "      <td>7.790000</td>\n",
       "    </tr>\n",
       "    <tr>\n",
       "      <th>75%</th>\n",
       "      <td>38467.75000</td>\n",
       "      <td>0.200000</td>\n",
       "      <td>1.0</td>\n",
       "      <td>36.810000</td>\n",
       "      <td>5.000000</td>\n",
       "      <td>24.450000</td>\n",
       "    </tr>\n",
       "    <tr>\n",
       "      <th>max</th>\n",
       "      <td>51290.00000</td>\n",
       "      <td>0.850000</td>\n",
       "      <td>1.0</td>\n",
       "      <td>8399.976000</td>\n",
       "      <td>14.000000</td>\n",
       "      <td>933.570000</td>\n",
       "    </tr>\n",
       "  </tbody>\n",
       "</table>\n",
       "</div>"
      ],
      "text/plain": [
       "            Row ID      Discount  Number of Records        Profit  \\\n",
       "count  51290.00000  51290.000000            51290.0  51290.000000   \n",
       "mean   25645.50000      0.142908                1.0     28.610982   \n",
       "std    14806.29199      0.212280                0.0    174.340972   \n",
       "min        1.00000      0.000000                1.0  -6599.978000   \n",
       "25%    12823.25000      0.000000                1.0      0.000000   \n",
       "50%    25645.50000      0.000000                1.0      9.240000   \n",
       "75%    38467.75000      0.200000                1.0     36.810000   \n",
       "max    51290.00000      0.850000                1.0   8399.976000   \n",
       "\n",
       "           Quantity  Shipping Cost  \n",
       "count  51290.000000   51290.000000  \n",
       "mean       3.476545      26.375818  \n",
       "std        2.278766      57.296810  \n",
       "min        1.000000       0.002000  \n",
       "25%        2.000000       2.610000  \n",
       "50%        3.000000       7.790000  \n",
       "75%        5.000000      24.450000  \n",
       "max       14.000000     933.570000  "
      ]
     },
     "execution_count": 8,
     "metadata": {},
     "output_type": "execute_result"
    }
   ],
   "source": [
    "dataframe.describe()"
   ]
  },
  {
   "cell_type": "markdown",
   "metadata": {},
   "source": [
    "#### Null values"
   ]
  },
  {
   "cell_type": "code",
   "execution_count": 9,
   "metadata": {},
   "outputs": [
    {
     "data": {
      "text/plain": [
       "Category             0\n",
       "City                 0\n",
       "Country              0\n",
       "Customer ID          0\n",
       "Customer Name        0\n",
       "Market               0\n",
       "Order Date           0\n",
       "Order ID             0\n",
       "Order Priority       0\n",
       "Product ID           0\n",
       "Product Name         0\n",
       "Region               0\n",
       "Row ID               0\n",
       "Segment              0\n",
       "Ship Date            0\n",
       "Ship Mode            0\n",
       "State                0\n",
       "Sub-Category         0\n",
       "Discount             0\n",
       "Number of Records    0\n",
       "Profit               0\n",
       "Quantity             0\n",
       "Sales                0\n",
       "Shipping Cost        0\n",
       "dtype: int64"
      ]
     },
     "execution_count": 9,
     "metadata": {},
     "output_type": "execute_result"
    }
   ],
   "source": [
    "dataframe.isnull().sum()"
   ]
  },
  {
   "cell_type": "markdown",
   "metadata": {},
   "source": [
    "There is 0 Null values"
   ]
  },
  {
   "cell_type": "markdown",
   "metadata": {},
   "source": [
    "#### Number of unique values"
   ]
  },
  {
   "cell_type": "code",
   "execution_count": 10,
   "metadata": {},
   "outputs": [
    {
     "data": {
      "text/plain": [
       "Category                 3\n",
       "City                  3636\n",
       "Country                147\n",
       "Customer ID           4873\n",
       "Customer Name          795\n",
       "Market                   7\n",
       "Order Date            1430\n",
       "Order ID             25035\n",
       "Order Priority           4\n",
       "Product ID           10292\n",
       "Product Name          3788\n",
       "Region                  13\n",
       "Row ID               51290\n",
       "Segment                  3\n",
       "Ship Date             1464\n",
       "Ship Mode                4\n",
       "State                 1094\n",
       "Sub-Category            17\n",
       "Discount                27\n",
       "Number of Records        1\n",
       "Profit               24575\n",
       "Quantity                14\n",
       "Sales                 2246\n",
       "Shipping Cost        16877\n",
       "dtype: int64"
      ]
     },
     "execution_count": 10,
     "metadata": {},
     "output_type": "execute_result"
    }
   ],
   "source": [
    "dataframe.nunique()"
   ]
  },
  {
   "cell_type": "markdown",
   "metadata": {},
   "source": [
    "### Data Wrangling"
   ]
  },
  {
   "cell_type": "markdown",
   "metadata": {},
   "source": [
    "Shipping Date"
   ]
  },
  {
   "cell_type": "code",
   "execution_count": 11,
   "metadata": {},
   "outputs": [],
   "source": [
    "dataframe['Ship Date'] = pd.to_datetime(dataframe['Ship Date'], format=\"%d-%m-%Y\")"
   ]
  },
  {
   "cell_type": "code",
   "execution_count": 12,
   "metadata": {},
   "outputs": [],
   "source": [
    "df = dataframe.copy()"
   ]
  },
  {
   "cell_type": "markdown",
   "metadata": {},
   "source": [
    "                                    First Problem:                                  \n",
    "                                    \n",
    "\n",
    "The Marketing Teamhas launched a campaign recently and they want to understand how well their\n",
    "\n",
    "campaigns are able to attract new customers.\n",
    "\n",
    "\n",
    "Show the New Customer Acquisition on a trend line. During which period did new customers grow\n",
    "\n",
    "the most. During which period did it flatten?\n"
   ]
  },
  {
   "cell_type": "code",
   "execution_count": 13,
   "metadata": {},
   "outputs": [
    {
     "data": {
      "text/plain": [
       "array(['AT-7352', 'EM-141402', 'TB-112801', ..., 'DJ-34202', 'GH-46652',\n",
       "       'LP-70951'], dtype=object)"
      ]
     },
     "execution_count": 13,
     "metadata": {},
     "output_type": "execute_result"
    }
   ],
   "source": [
    "dataframe['Customer ID'].unique()"
   ]
  },
  {
   "cell_type": "code",
   "execution_count": 14,
   "metadata": {},
   "outputs": [
    {
     "data": {
      "text/plain": [
       "<Figure size 2000x700 with 0 Axes>"
      ]
     },
     "metadata": {},
     "output_type": "display_data"
    },
    {
     "data": {
      "image/png": "[encoded data removed]",
      "text/plain": [
       "<Figure size 1000x600 with 1 Axes>"
      ]
     },
     "metadata": {},
     "output_type": "display_data"
    }
   ],
   "source": [
    "plt.figure(figsize=[20, 7])\n",
    "\n",
    "df['Order Date'] = pd.to_datetime(df['Order Date'], format='%d-%m-%Y')\n",
    "\n",
    "# Create a new column for the month and year as strings\n",
    "df['Month_Year'] = df['Order Date'].dt.to_period('M').astype(str)\n",
    "\n",
    "# Group by 'Month_Year' and count unique 'Customer ID' to get new customers each month\n",
    "new_customers_per_month = df.groupby('Month_Year')['Customer ID'].nunique()\n",
    "\n",
    "# Plotting the trend line\n",
    "plt.figure(figsize=(10, 6))\n",
    "plt.plot(new_customers_per_month.index, new_customers_per_month.values, marker='o', linestyle='-')\n",
    "plt.title('New Customer Acquisition Trend Over Time')\n",
    "plt.xlabel('Month_Year')\n",
    "plt.ylabel('Number of New Customers')\n",
    "plt.grid(True)\n",
    "plt.xticks(rotation=90)  # Rotate x-axis labels for better visibility\n",
    "\n",
    "plt.savefig(\"New Customer Acquisition Trend Over Time.jpg\")\n",
    "plt.show()"
   ]
  },
  {
   "cell_type": "markdown",
   "metadata": {},
   "source": [
    "Key Findings:\n",
    "\n",
    "\n",
    "                                                Seasonal Pattern:                                       \n",
    "The analysis revealed a distinct seasonal pattern in new customer acquisition.\n",
    "\n",
    "Notably, the trend indicates a surge in new customers during the months of November and December.\n",
    "\n",
    "\n",
    "                                                Peak Growth Period:                                       \n",
    "The most substantial growth in new customer acquisition occurred during the November-December period.\n",
    "\n",
    "This peak suggests that the Marketing Team's campaigns were particularly effective in attracting \n",
    "\n",
    "new customers during this timeframe.\n",
    "\n",
    "\n",
    "                                                Flattening Period:                                       \n",
    "Conversely, the trend shows a flattening or plateauing of new customer acquisition during the months of \n",
    "\n",
    "January and February. This indicates a period where the influx of new customers is less pronounced \n",
    "\n",
    "compared to the peak months.\n",
    "\n",
    "\n",
    "                                                Interpretation:                                       \n",
    "The observed pattern implies that the marketing campaigns orchestrated by the team resonate strongly \n",
    "\n",
    "with the audience, especially during the holiday season. The surge in new customers during November and December \n",
    "\n",
    "suggests that these months are particularly opportune for customer acquisition.\n",
    "\n",
    "\n",
    "\n",
    "                                                Recommendations:                                       \n",
    "\n",
    "\n",
    "                                                Capitalizing on Peak Months:                                    \n",
    "Allocate additional resources and efforts towards marketing campaigns during November and December to leverage \n",
    "\n",
    "the peak growth period.\n",
    "\n",
    "\n",
    "\n",
    "                                            Strategic Adjustments for Flattening Period:                                       \n",
    "Consider adjusting campaign strategies during January and February to counter the flattening trend. This might \n",
    "\n",
    "involve exploring different promotional tactics or refining targeting strategies to maintain customer acquisition momentum.\n",
    "\n",
    "\n",
    "\n",
    "\n",
    "                                            Conclusion:                                       \n",
    "Understanding the seasonality and trends in new customer acquisition allows the Marketing Team to make informed decisions. \n",
    "\n",
    "By strategically aligning campaigns with peak growth periods and adjusting strategies during flattening periods, the team \n",
    "\n",
    "can optimize their efforts for sustained and impactful customer acquisition."
   ]
  },
  {
   "cell_type": "markdown",
   "metadata": {},
   "source": [
    "                                Second Problem:                             \n",
    "The business wants to calculate profitability per business day.\n",
    "\n",
    "They want to know how many days each month has been Profitable and Unprofitable."
   ]
  },
  {
   "cell_type": "code",
   "execution_count": 15,
   "metadata": {},
   "outputs": [],
   "source": [
    "df['month'] = df['Order Date'].dt.month_name()"
   ]
  },
  {
   "cell_type": "code",
   "execution_count": 16,
   "metadata": {},
   "outputs": [],
   "source": [
    "profit_data = df[df.Profit > 0]\n",
    "loss_data = df[df.Profit < 0]"
   ]
  },
  {
   "cell_type": "code",
   "execution_count": 21,
   "metadata": {},
   "outputs": [
    {
     "data": {
      "image/png": "[encoded data removed]",
      "text/plain": [
       "<Figure size 1500x500 with 1 Axes>"
      ]
     },
     "metadata": {},
     "output_type": "display_data"
    }
   ],
   "source": [
    "total_count = df.groupby('month').size()\n",
    "profit_percentage = round((profit_data.groupby('month').size() / total_count) * 100)\n",
    "loss_percentage = round((loss_data.groupby('month').size() / total_count) * 100)\n",
    "\n",
    "# Create a DataFrame for plotting\n",
    "plot_data = pd.DataFrame({\n",
    "    'Month': profit_percentage.index,\n",
    "    'Profit': profit_percentage.values,\n",
    "    'Loss': loss_percentage.values\n",
    "})\n",
    "\n",
    "# Set up the figure and axes\n",
    "plt.figure(figsize=[15, 5])\n",
    "\n",
    "\n",
    "sns.barplot(data=plot_data, y='Profit', x='Month', color='green', alpha=0.7, label='Profit')\n",
    "sns.barplot(data=plot_data, y='Loss', x='Month', color='blue', alpha=0.7, label='Loss')\n",
    "\n",
    "# Add labels and legend\n",
    "plt.title('Percentage of Profitable and Loss-making Transactions by Month')\n",
    "plt.xlabel('Month')\n",
    "plt.ylabel('Probability of Profit / Loss')\n",
    "plt.legend()\n",
    "\n",
    "plt.savefig(\"Percentage of Profitable and Loss-making Transactions by Month.jpg\")\n",
    "plt.show()"
   ]
  },
  {
   "cell_type": "markdown",
   "metadata": {},
   "source": [
    "                                      Profitability Analysis by Month\n",
    "\n",
    "                                      Objective:\n",
    "The business aims to calculate the profitability per business day and understand the distribution of profitable and \n",
    "unprofitable days each month.\n",
    "\n",
    "                                      Data:\n",
    "The provided data includes the profit and loss figures for each month, specifying the number of profitable and unprofitable days.\n",
    "\n",
    "                                      Analysis:\n",
    "                                      \n",
    "\n",
    "1. Profitability Metrics:\n",
    "\n",
    "  * Profitability is assessed by considering the daily profit and loss figures for each month.\n",
    "  * Days with a positive profit are classified as Profitable, while those with negative profit are deemed Unprofitable.\n",
    "\n",
    "  \n",
    "2. Monthly Profit and Loss Overview:\n",
    "\n",
    "  * The table outlines the profit and loss for each month, providing a snapshot of the financial performance during the specified periods.\n",
    "\n",
    "\n",
    "3. Profitability by Day:\n",
    "\n",
    "  * Calculate the average profitability per day for each month by dividing the profit by the number of days in the month.\n",
    "  * Classify days as Profitable or Unprofitable based on the calculated average.\n",
    "\n",
    "\n",
    "4. Monthly Profitability Status:\n",
    "\n",
    "  * Provide a summary of how many days in each month are classified as Profitable and Unprofitable.\n",
    "  * Visualize the data to highlight monthly trends and variations in profitability.\n",
    "\n",
    "\n",
    "                                      Interpretation:\n",
    "This analysis allows the business to identify the variation in daily profitability across different months. \n",
    "Understanding the distribution of Profitable and Unprofitable days provides insights into the financial \n",
    "performance and helps in strategic decision-making.\n",
    "\n",
    "\n",
    "\n",
    "                                      Recommendations:\n",
    "\n",
    "1. Focus on Unprofitable Periods:\n",
    "\n",
    "  * Investigate factors contributing to Unprofitable days, and consider adjusting business strategies during those periods.\n",
    "\n",
    "  \n",
    "2. Leverage Profitable Periods:\n",
    "\n",
    "  * Identify the characteristics of months with high profitability and leverage those insights to optimize operations during similar periods.\n",
    "\n",
    "\n",
    "\n",
    "\n",
    "                                        Conclusion:\n",
    "\n",
    "By categorizing and analyzing daily profitability, the business gains valuable insights into the financial dynamics of each month. \n",
    "This understanding enables informed decision-making and strategic planning for optimizing profitability.\n"
   ]
  },
  {
   "cell_type": "markdown",
   "metadata": {},
   "source": [
    "                                        Third Problem:                                  \n",
    "The Customer Loyalty team wants to run some special campaigns for customers.\n",
    "\n",
    "But they want to look at Cohorts.\n",
    "\n",
    "For example - Cohort 2011 are people who purchased the first time in 2011, Cohort 2012 are people\n",
    "\n",
    "who purchased the first time in 2012 and so on.\n",
    "\n",
    "Which Cohort should they run the campaign with, and why?\n",
    "\n"
   ]
  },
  {
   "cell_type": "code",
   "execution_count": 18,
   "metadata": {},
   "outputs": [],
   "source": [
    "df['year'] = df['Order Date'].dt.year"
   ]
  },
  {
   "cell_type": "code",
   "execution_count": 19,
   "metadata": {},
   "outputs": [],
   "source": [
    "df['Sales'] = df['Sales'].str.split(\",\").str.join(\"\").astype('int')"
   ]
  },
  {
   "cell_type": "code",
   "execution_count": 40,
   "metadata": {},
   "outputs": [
    {
     "data": {
      "text/html": [
       "<div>\n",
       "<style scoped>\n",
       "    .dataframe tbody tr th:only-of-type {\n",
       "        vertical-align: middle;\n",
       "    }\n",
       "\n",
       "    .dataframe tbody tr th {\n",
       "        vertical-align: top;\n",
       "    }\n",
       "\n",
       "    .dataframe thead th {\n",
       "        text-align: right;\n",
       "    }\n",
       "</style>\n",
       "<table border=\"1\" class=\"dataframe\">\n",
       "  <thead>\n",
       "    <tr style=\"text-align: right;\">\n",
       "      <th></th>\n",
       "      <th>First Purchase Year</th>\n",
       "      <th>year</th>\n",
       "      <th>Number of Customers</th>\n",
       "      <th>Sales</th>\n",
       "    </tr>\n",
       "  </thead>\n",
       "  <tbody>\n",
       "    <tr>\n",
       "      <th>0</th>\n",
       "      <td>2011</td>\n",
       "      <td>2011</td>\n",
       "      <td>2890</td>\n",
       "      <td>2259511</td>\n",
       "    </tr>\n",
       "    <tr>\n",
       "      <th>1</th>\n",
       "      <td>2011</td>\n",
       "      <td>2012</td>\n",
       "      <td>1949</td>\n",
       "      <td>1767986</td>\n",
       "    </tr>\n",
       "    <tr>\n",
       "      <th>2</th>\n",
       "      <td>2011</td>\n",
       "      <td>2013</td>\n",
       "      <td>2187</td>\n",
       "      <td>2218411</td>\n",
       "    </tr>\n",
       "    <tr>\n",
       "      <th>3</th>\n",
       "      <td>2011</td>\n",
       "      <td>2014</td>\n",
       "      <td>2387</td>\n",
       "      <td>2852929</td>\n",
       "    </tr>\n",
       "    <tr>\n",
       "      <th>4</th>\n",
       "      <td>2012</td>\n",
       "      <td>2012</td>\n",
       "      <td>1172</td>\n",
       "      <td>909507</td>\n",
       "    </tr>\n",
       "    <tr>\n",
       "      <th>5</th>\n",
       "      <td>2012</td>\n",
       "      <td>2013</td>\n",
       "      <td>838</td>\n",
       "      <td>800707</td>\n",
       "    </tr>\n",
       "    <tr>\n",
       "      <th>6</th>\n",
       "      <td>2012</td>\n",
       "      <td>2014</td>\n",
       "      <td>907</td>\n",
       "      <td>931711</td>\n",
       "    </tr>\n",
       "    <tr>\n",
       "      <th>7</th>\n",
       "      <td>2013</td>\n",
       "      <td>2013</td>\n",
       "      <td>566</td>\n",
       "      <td>386742</td>\n",
       "    </tr>\n",
       "    <tr>\n",
       "      <th>8</th>\n",
       "      <td>2013</td>\n",
       "      <td>2014</td>\n",
       "      <td>409</td>\n",
       "      <td>375048</td>\n",
       "    </tr>\n",
       "    <tr>\n",
       "      <th>9</th>\n",
       "      <td>2014</td>\n",
       "      <td>2014</td>\n",
       "      <td>245</td>\n",
       "      <td>140353</td>\n",
       "    </tr>\n",
       "  </tbody>\n",
       "</table>\n",
       "</div>"
      ],
      "text/plain": [
       "   First Purchase Year  year  Number of Customers    Sales\n",
       "0                 2011  2011                 2890  2259511\n",
       "1                 2011  2012                 1949  1767986\n",
       "2                 2011  2013                 2187  2218411\n",
       "3                 2011  2014                 2387  2852929\n",
       "4                 2012  2012                 1172   909507\n",
       "5                 2012  2013                  838   800707\n",
       "6                 2012  2014                  907   931711\n",
       "7                 2013  2013                  566   386742\n",
       "8                 2013  2014                  409   375048\n",
       "9                 2014  2014                  245   140353"
      ]
     },
     "execution_count": 40,
     "metadata": {},
     "output_type": "execute_result"
    }
   ],
   "source": [
    "cohort_data = df.groupby(['First Purchase Year', 'year']).agg({\n",
    "    'Customer ID': 'nunique',  # Count the number of unique customers\n",
    "    'Sales': 'sum'  # Sum of sales\n",
    "}).reset_index()\n",
    "cohort_data.rename(columns={'Customer ID': 'Number of Customers'})"
   ]
  },
  {
   "cell_type": "code",
   "execution_count": 42,
   "metadata": {},
   "outputs": [
    {
     "data": {
      "image/png": "[encoded data removed]",
      "text/plain": [
       "<Figure size 1500x600 with 1 Axes>"
      ]
     },
     "metadata": {},
     "output_type": "display_data"
    }
   ],
   "source": [
    "plt.figure(figsize=[15, 6])\n",
    "\n",
    "sns.barplot(data=cohort_data, x='year', y='Customer ID', hue='First Purchase Year')\n",
    "plt.xlabel('Year')\n",
    "plt.ylabel('Number of Customers')\n",
    "plt.title('Cohort Analysis')\n",
    "\n",
    "\n",
    "plt.savefig(\"Cohort Analysis.jpg\")\n",
    "plt.show()"
   ]
  },
  {
   "cell_type": "markdown",
   "metadata": {},
   "source": [
    "  Cohort Analysis Recommendation: Targeting Cohort 2011\n",
    "\n",
    "\n",
    "1. High Initial Customer Base:\n",
    "\n",
    "  * Cohort 2011 started with a substantial customer base of 2890 individuals. This initial size suggests a strong market\n",
    "    presence and interest in the products or services offered by our business.\n",
    "\n",
    "\n",
    "2. Substantial Total Sales in Subsequent Years:\n",
    "\n",
    "  * The total sales generated by Cohort 2011 in the years following their initial purchase have been consistently \n",
    "  substantial. This indicates that customers from this cohort not only made an impactful first purchase but have continued \n",
    "  to engage with our offerings over time.\n",
    "\n",
    "\n",
    "3. Demonstrates Strong Customer Retention:\n",
    "\n",
    "  * The retention of customers within Cohort 2011 has been impressive. Despite changes in the market and industry\n",
    "    landscape, these customers have remained loyal, making repeat purchases and contributing to our ongoing success.\n",
    "\n",
    "\n",
    "4. Sustained and Growing Total Sales:\n",
    "\n",
    " * The data shows a pattern of sustained and even growing total sales from Cohort 2011. This implies that not only have \n",
    "  we retained these customers, but they have also increased their engagement with our brand, resulting in higher sales figures.\n",
    "\n",
    "\n",
    "5. Established Loyalty and Engagement:\n",
    "\n",
    "  * Cohort 2011 reflects an established level of loyalty and engagement. These customers have proven to be receptive to our offerings, \n",
    "  suggesting a positive brand perception and satisfaction with our products or services.\n",
    "\n",
    "\n",
    "6. Strategic Importance for Special Campaign:\n",
    "\n",
    "  * Running a special campaign targeting Cohort 2011 holds strategic importance. Leveraging the loyalty and engagement of these\n",
    "  customers can lead to increased sales, brand advocacy, and positive word-of-mouth within the industry.\n",
    "\n",
    "\n",
    "7. Aligning with Specific Goals:\n",
    "\n",
    "  * The recommendation to target Cohort 2011 aligns with the specific goals of the special campaign. Whether the aim is to maximize sales, \n",
    "  enhance customer loyalty, or re-engage inactive customers, Cohort 2011 offers a promising opportunity to achieve these objectives.\n",
    "\n",
    "\n",
    "8. Strategic Decision for Long-Term Success:\n",
    "\n",
    "  * Targeting Cohort 2011 is not just a short-term tactic but a strategic decision for long-term success. It acknowledges and leverages the \n",
    "  value of customer loyalty, contributing to the sustainability and growth of our business in the industry.\n",
    "\n",
    "\n",
    "9. Data-Driven Decision Making:\n",
    "\n",
    "  * This recommendation is based on robust cohort analysis, utilizing data-driven insights to make informed decisions. The Company\n",
    "    can have confidence in the strategic nature of this approach.\n",
    "\n",
    "\n",
    "\n",
    "\n",
    "\n",
    "In conclusion, directing our special campaign towards Cohort 2011 is a strategic move that capitalizes on the proven loyalty and engagement \n",
    "of these customers. It aligns with industry-level goals and sets the stage for sustained success in the competitive landscape.\n",
    "\n",
    "\n",
    "This detailed presentation helps convey the strategic importance of targeting Cohort 2011 and provides the client with a clear understanding \n",
    "of the rationale behind the recommendation.\n"
   ]
  },
  {
   "cell_type": "markdown",
   "metadata": {},
   "source": [
    "                                            Fourth Question:                                        \n",
    "Which are the Top 5 countries that have shown the best Sales CAGR?\n",
    "\n",
    "The Strategy team feels that if we remove the Bottom 10 Percentile transactions -it will change the\n",
    "\n",
    "Top 5 countries ranking.\n",
    "\n",
    "Validate this. "
   ]
  },
  {
   "cell_type": "code",
   "execution_count": 46,
   "metadata": {},
   "outputs": [],
   "source": [
    "sales_cagr = df.groupby('Country').apply(lambda x: (x['Sales'].pct_change() + 1).prod() - 1).reset_index(name='Sales_CAGR')\n",
    "\n",
    "# Sort by Sales CAGR in descending order\n",
    "top_countries = sales_cagr.sort_values(by='Sales_CAGR', ascending=False).head(5)\n",
    "\n",
    "\n",
    "threshold = df['Sales'].quantile(0.10)\n",
    "\n",
    "# Identify Bottom 10 Percentile transactions\n",
    "bottom_10_percentile = df[df['Sales'] <= threshold]\n",
    "\n",
    "# Exclude Bottom 10 Percentile transactions\n",
    "df_filtered = df[df['Sales'] > threshold]\n",
    "\n",
    "# Recalculate Sales CAGR for each country after filtering\n",
    "sales_cagr_filtered = df_filtered.groupby('Country').apply(lambda x: (x['Sales'].pct_change() + 1).prod() - 1).reset_index(name='Sales_CAGR_Filtered')\n",
    "\n",
    "# Sort by Sales CAGR in descending order\n",
    "top_countries_filtered = sales_cagr_filtered.sort_values(by='Sales_CAGR_Filtered', ascending=False).head(5)"
   ]
  },
  {
   "cell_type": "code",
   "execution_count": 49,
   "metadata": {},
   "outputs": [
    {
     "data": {
      "text/html": [
       "<div>\n",
       "<style scoped>\n",
       "    .dataframe tbody tr th:only-of-type {\n",
       "        vertical-align: middle;\n",
       "    }\n",
       "\n",
       "    .dataframe tbody tr th {\n",
       "        vertical-align: top;\n",
       "    }\n",
       "\n",
       "    .dataframe thead th {\n",
       "        text-align: right;\n",
       "    }\n",
       "</style>\n",
       "<table border=\"1\" class=\"dataframe\">\n",
       "  <thead>\n",
       "    <tr style=\"text-align: right;\">\n",
       "      <th></th>\n",
       "      <th>Country</th>\n",
       "      <th>Sales_CAGR</th>\n",
       "    </tr>\n",
       "  </thead>\n",
       "  <tbody>\n",
       "    <tr>\n",
       "      <th>116</th>\n",
       "      <td>South Africa</td>\n",
       "      <td>149.000000</td>\n",
       "    </tr>\n",
       "    <tr>\n",
       "      <th>13</th>\n",
       "      <td>Belgium</td>\n",
       "      <td>93.666667</td>\n",
       "    </tr>\n",
       "    <tr>\n",
       "      <th>80</th>\n",
       "      <td>Mauritania</td>\n",
       "      <td>91.411765</td>\n",
       "    </tr>\n",
       "    <tr>\n",
       "      <th>107</th>\n",
       "      <td>Russia</td>\n",
       "      <td>85.600000</td>\n",
       "    </tr>\n",
       "    <tr>\n",
       "      <th>127</th>\n",
       "      <td>Tajikistan</td>\n",
       "      <td>77.333333</td>\n",
       "    </tr>\n",
       "  </tbody>\n",
       "</table>\n",
       "</div>"
      ],
      "text/plain": [
       "          Country  Sales_CAGR\n",
       "116  South Africa  149.000000\n",
       "13        Belgium   93.666667\n",
       "80     Mauritania   91.411765\n",
       "107        Russia   85.600000\n",
       "127    Tajikistan   77.333333"
      ]
     },
     "execution_count": 49,
     "metadata": {},
     "output_type": "execute_result"
    }
   ],
   "source": [
    "top_countries"
   ]
  },
  {
   "cell_type": "code",
   "execution_count": 61,
   "metadata": {},
   "outputs": [
    {
     "data": {
      "text/html": [
       "<div>\n",
       "<style scoped>\n",
       "    .dataframe tbody tr th:only-of-type {\n",
       "        vertical-align: middle;\n",
       "    }\n",
       "\n",
       "    .dataframe tbody tr th {\n",
       "        vertical-align: top;\n",
       "    }\n",
       "\n",
       "    .dataframe thead th {\n",
       "        text-align: right;\n",
       "    }\n",
       "</style>\n",
       "<table border=\"1\" class=\"dataframe\">\n",
       "  <thead>\n",
       "    <tr style=\"text-align: right;\">\n",
       "      <th></th>\n",
       "      <th>Country</th>\n",
       "      <th>Sales_CAGR_Filtered</th>\n",
       "    </tr>\n",
       "  </thead>\n",
       "  <tbody>\n",
       "    <tr>\n",
       "      <th>116</th>\n",
       "      <td>South Africa</td>\n",
       "      <td>149.000000</td>\n",
       "    </tr>\n",
       "    <tr>\n",
       "      <th>80</th>\n",
       "      <td>Mauritania</td>\n",
       "      <td>91.411765</td>\n",
       "    </tr>\n",
       "    <tr>\n",
       "      <th>140</th>\n",
       "      <td>Uruguay</td>\n",
       "      <td>55.934426</td>\n",
       "    </tr>\n",
       "    <tr>\n",
       "      <th>71</th>\n",
       "      <td>Lesotho</td>\n",
       "      <td>54.867647</td>\n",
       "    </tr>\n",
       "    <tr>\n",
       "      <th>24</th>\n",
       "      <td>Chad</td>\n",
       "      <td>45.035714</td>\n",
       "    </tr>\n",
       "  </tbody>\n",
       "</table>\n",
       "</div>"
      ],
      "text/plain": [
       "          Country  Sales_CAGR_Filtered\n",
       "116  South Africa           149.000000\n",
       "80     Mauritania            91.411765\n",
       "140       Uruguay            55.934426\n",
       "71        Lesotho            54.867647\n",
       "24           Chad            45.035714"
      ]
     },
     "execution_count": 61,
     "metadata": {},
     "output_type": "execute_result"
    }
   ],
   "source": [
    "top_countries_filtered"
   ]
  },
  {
   "cell_type": "code",
   "execution_count": 63,
   "metadata": {},
   "outputs": [
    {
     "data": {
      "image/png": "[encoded data removed]",
      "text/plain": [
       "<Figure size 2000x700 with 2 Axes>"
      ]
     },
     "metadata": {},
     "output_type": "display_data"
    }
   ],
   "source": [
    "custom_palette = sns.color_palette(\"coolwarm\", n_colors=len(top_countries))\n",
    "\n",
    "fig, ax = plt.subplots(1, 2, figsize=[20, 7])\n",
    "\n",
    "# First subplot with custom color palette\n",
    "sns.barplot(data=top_countries, x='Country', y='Sales_CAGR', ax=ax[0], palette=custom_palette)\n",
    "ax[0].set_title('Top 5 countries that have shown the best Sales CAGR - Before Removing Bottom 10 Percentile')\n",
    "\n",
    "# Rotate x-axis labels if needed\n",
    "ax[0].set_xticklabels(ax[0].get_xticklabels(), rotation=45, ha='right')\n",
    "\n",
    "\n",
    "\n",
    "\n",
    "\n",
    "sns.barplot(data=top_countries_filtered, x='Country', y='Sales_CAGR_Filtered', ax=ax[1], palette=custom_palette)\n",
    "ax[1].set_title('Top 5 countries that have shown the best Sales CAGR - After Removing Bottom 10 Percentile')\n",
    "\n",
    "# Rotate x-axis labels if needed\n",
    "ax[1].set_xticklabels(ax[1].get_xticklabels(), rotation=45, ha='right')\n",
    "\n",
    "plt.savefig(\"Sales CAGR Compair.jpg\")\n",
    "plt.show()"
   ]
  },
  {
   "cell_type": "code",
   "execution_count": null,
   "metadata": {},
   "outputs": [],
   "source": []
  }
 ],
 "metadata": {
  "kernelspec": {
   "display_name": "Python 3",
   "language": "python",
   "name": "python3"
  },
  "language_info": {
   "codemirror_mode": {
    "name": "ipython",
    "version": 3
   },
   "file_extension": ".py",
   "mimetype": "text/x-python",
   "name": "python",
   "nbconvert_exporter": "python",
   "pygments_lexer": "ipython3",
   "version": "3.11.0"
  }
 },
 "nbformat": 4,
 "nbformat_minor": 2
}
